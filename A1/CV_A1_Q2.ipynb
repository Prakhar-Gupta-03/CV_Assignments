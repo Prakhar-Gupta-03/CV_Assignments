{
  "nbformat": 4,
  "nbformat_minor": 0,
  "metadata": {
    "colab": {
      "provenance": [],
      "mount_file_id": "1850qFsUnh_FXbz3QoTDWdK7DOe7pGhH4",
      "authorship_tag": "ABX9TyOgYCMnMP2hc6mPzalk59p3",
      "include_colab_link": true
    },
    "kernelspec": {
      "name": "python3",
      "display_name": "Python 3"
    },
    "language_info": {
      "name": "python"
    }
  },
  "cells": [
    {
      "cell_type": "markdown",
      "metadata": {
        "id": "view-in-github",
        "colab_type": "text"
      },
      "source": [
        "<a href=\"https://colab.research.google.com/github/Prakhar-Gupta-03/CV_Assignments/blob/main/A1/CV_A1_Q2.ipynb\" target=\"_parent\"><img src=\"https://colab.research.google.com/assets/colab-badge.svg\" alt=\"Open In Colab\"/></a>"
      ]
    },
    {
      "cell_type": "code",
      "execution_count": null,
      "metadata": {
        "id": "1T3yVKTznv03"
      },
      "outputs": [],
      "source": [
        "import os\n",
        "import torch\n",
        "import pandas as pd\n",
        "from skimage import io, transform\n",
        "import numpy as np\n",
        "import matplotlib.pyplot as plt\n",
        "from torch.utils.data import Dataset, DataLoader\n",
        "from torchvision import transforms, utils\n",
        "\n",
        "# Ignore warnings\n",
        "import warnings\n",
        "warnings.filterwarnings(\"ignore\")\n",
        "\n",
        "# plt.ion()   # interactive mode"
      ]
    },
    {
      "cell_type": "code",
      "source": [
        "# mounting the Google Drive\n",
        "from google.colab import drive\n",
        "drive.mount('/content/drive')"
      ],
      "metadata": {
        "colab": {
          "base_uri": "https://localhost:8080/"
        },
        "id": "i4CDDwt-3923",
        "outputId": "be4a846f-a727-4fe2-b72f-5e8c7e11c7dc"
      },
      "execution_count": null,
      "outputs": [
        {
          "output_type": "stream",
          "name": "stdout",
          "text": [
            "Mounted at /content/drive\n"
          ]
        }
      ]
    },
    {
      "cell_type": "code",
      "source": [
        "# Changing the path to the dataset location\n",
        "%cd drive/MyDrive/Cropped_final\n",
        "!ls"
      ],
      "metadata": {
        "colab": {
          "base_uri": "https://localhost:8080/"
        },
        "id": "xREyBRK04oNW",
        "outputId": "1dc1b226-c884-4663-eaa3-c48f58c1308f"
      },
      "execution_count": null,
      "outputs": [
        {
          "output_type": "stream",
          "name": "stdout",
          "text": [
            "/content/drive/.shortcut-targets-by-id/1f0rnpZNPfoZGwTlZroaxBVJTf9EtdNNc/Cropped_final\n",
            "amur_leopard  birds\t  brown_bear  people\tsika_deer\n",
            "amur_tiger    black_bear  dog\t      roe_deer\twild_boar\n"
          ]
        }
      ]
    },
    {
      "cell_type": "code",
      "source": [],
      "metadata": {
        "id": "M0AuK6ul7Yys"
      },
      "execution_count": null,
      "outputs": []
    }
  ]
}